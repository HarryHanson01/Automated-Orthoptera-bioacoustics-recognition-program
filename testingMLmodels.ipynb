{
 "cells": [
  {
   "cell_type": "markdown",
   "metadata": {},
   "source": [
    "# **DecisionTreeClassifier model used here**"
   ]
  },
  {
   "cell_type": "code",
   "execution_count": null,
   "metadata": {},
   "outputs": [
    {
     "name": "stdout",
     "output_type": "stream",
     "text": [
      "Accuracy: 1.0000\n",
      "Classification Report:\n",
      "                      precision    recall  f1-score   support\n",
      "\n",
      "   MeadowGrasshopper       1.00      1.00      1.00         9\n",
      "Roesel'sBush-Cricket       1.00      1.00      1.00        16\n",
      "\n",
      "            accuracy                           1.00        25\n",
      "           macro avg       1.00      1.00      1.00        25\n",
      "        weighted avg       1.00      1.00      1.00        25\n",
      "\n"
     ]
    }
   ],
   "source": [
    "import pandas as pd\n",
    "from sklearn.model_selection import train_test_split\n",
    "from sklearn.tree import DecisionTreeClassifier\n",
    "from sklearn.metrics import classification_report, accuracy_score\n",
    "from sklearn.preprocessing import LabelEncoder\n",
    "\n",
    "#Decision Tree Classifier is a supervised learning algorithm that splits data into subsets based on feature values, creating a tree-like model of decisions to classify data into different categories.\n",
    "\n",
    "data = pd.read_csv('chirp-analysis-results.csv')\n",
    "\n",
    "data.replace([float('-inf'), '-inf'], float('nan'), inplace=True)\n",
    "data = data.dropna(subset=['Peak Frequency (Hz)', 'Lowest Frequency (Hz)', 'Average Loudness (dB)', 'Species'])\n",
    "\n",
    "X = data[['Peak Frequency (Hz)', 'Lowest Frequency (Hz)', 'Average Loudness (dB)']]\n",
    "y = data['Species']\n",
    "\n",
    "label_encoder = LabelEncoder()\n",
    "y_encoded = label_encoder.fit_transform(y)\n",
    "\n",
    "X_train, X_test, y_train, y_test = train_test_split(X, y_encoded, test_size=0.2, random_state=123)\n",
    "\n",
    "model = DecisionTreeClassifier(random_state=42)\n",
    "model.fit(X_train, y_train)\n",
    "\n",
    "y_pred = model.predict(X_test)\n",
    "\n",
    "accuracy = accuracy_score(y_test, y_pred)\n",
    "print(f'Accuracy: {accuracy:.4f}')\n",
    "print('Classification Report:')\n",
    "print(classification_report(y_test, y_pred, target_names=label_encoder.classes_))\n",
    "\n",
    "# support is the amount each class is represented in the test set"
   ]
  },
  {
   "cell_type": "markdown",
   "metadata": {},
   "source": [
    "# **SVM**"
   ]
  },
  {
   "cell_type": "code",
   "execution_count": 6,
   "metadata": {},
   "outputs": [
    {
     "name": "stdout",
     "output_type": "stream",
     "text": [
      "Accuracy: 1.0000\n",
      "Classification Report:\n",
      "                      precision    recall  f1-score   support\n",
      "\n",
      "   MeadowGrasshopper       1.00      1.00      1.00        17\n",
      "Roesel'sBush-Cricket       1.00      1.00      1.00        20\n",
      "\n",
      "            accuracy                           1.00        37\n",
      "           macro avg       1.00      1.00      1.00        37\n",
      "        weighted avg       1.00      1.00      1.00        37\n",
      "\n",
      "Confusion Matrix:\n",
      "[[17  0]\n",
      " [ 0 20]]\n"
     ]
    }
   ],
   "source": [
    "import pandas as pd\n",
    "from sklearn.model_selection import train_test_split\n",
    "from sklearn.svm import SVC\n",
    "from sklearn.metrics import classification_report, accuracy_score, confusion_matrix\n",
    "from sklearn.preprocessing import LabelEncoder\n",
    "import seaborn as sns\n",
    "import matplotlib.pyplot as plt\n",
    "\n",
    "#Support Vector Machine (SVM) is a supervised learning algorithm that finds the optimal hyperplane to separate data into different classes by maximizing the margin between the closest points of each class.\n",
    "\n",
    "data = pd.read_csv('chirp-analysis-results.csv')\n",
    "\n",
    "data.replace([float('-inf'), '-inf'], float('nan'), inplace=True)\n",
    "data = data.dropna(subset=['Peak Frequency (Hz)', 'Lowest Frequency (Hz)', 'Average Loudness (dB)', 'Species'])\n",
    "\n",
    "X = data[['Peak Frequency (Hz)', 'Lowest Frequency (Hz)', 'Average Loudness (dB)']]\n",
    "y = data['Species']\n",
    "\n",
    "label_encoder = LabelEncoder()\n",
    "y_encoded = label_encoder.fit_transform(y)\n",
    "\n",
    "X_train, X_test, y_train, y_test = train_test_split(X, y_encoded, test_size=0.3, random_state=42)\n",
    "\n",
    "svmModel = SVC(kernel='linear', random_state=42) \n",
    "svmModel.fit(X_train, y_train)\n",
    "\n",
    "y_pred = svmModel.predict(X_test)\n",
    "\n",
    "accuracy = accuracy_score(y_test, y_pred)\n",
    "print(f'Accuracy: {accuracy:.4f}')\n",
    "print('Classification Report:')\n",
    "print(classification_report(y_test, y_pred, target_names=label_encoder.classes_))\n",
    "\n",
    "confMatrix = confusion_matrix(y_test, y_pred)\n",
    "print('Confusion Matrix:')\n",
    "print(confMatrix)\n"
   ]
  }
 ],
 "metadata": {
  "kernelspec": {
   "display_name": "Python 3",
   "language": "python",
   "name": "python3"
  },
  "language_info": {
   "codemirror_mode": {
    "name": "ipython",
    "version": 3
   },
   "file_extension": ".py",
   "mimetype": "text/x-python",
   "name": "python",
   "nbconvert_exporter": "python",
   "pygments_lexer": "ipython3",
   "version": "3.12.5"
  }
 },
 "nbformat": 4,
 "nbformat_minor": 2
}
